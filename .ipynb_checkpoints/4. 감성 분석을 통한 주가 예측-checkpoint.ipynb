{
 "cells": [
  {
   "cell_type": "code",
   "execution_count": 1,
   "id": "c2222372",
   "metadata": {},
   "outputs": [
    {
     "name": "stderr",
     "output_type": "stream",
     "text": [
      "C:\\Users\\minsukim\\anaconda3\\envs\\minsu\\lib\\site-packages\\numpy\\_distributor_init.py:30: UserWarning: loaded more than 1 DLL from .libs:\n",
      "C:\\Users\\minsukim\\anaconda3\\envs\\minsu\\lib\\site-packages\\numpy\\.libs\\libopenblas.EL2C6PLE4ZYW3ECEVIV3OXXGRN2NRFM2.gfortran-win_amd64.dll\n",
      "C:\\Users\\minsukim\\anaconda3\\envs\\minsu\\lib\\site-packages\\numpy\\.libs\\libopenblas.NOIJJG62EMASZI6NYURL6JBKM4EVBGM7.gfortran-win_amd64.dll\n",
      "  warnings.warn(\"loaded more than 1 DLL from .libs:\"\n",
      "C:\\Users\\minsukim\\anaconda3\\envs\\minsu\\lib\\site-packages\\torchaudio\\extension\\extension.py:14: UserWarning: torchaudio C++ extension is not available.\n",
      "  warnings.warn('torchaudio C++ extension is not available.')\n",
      "C:\\Users\\minsukim\\anaconda3\\envs\\minsu\\lib\\site-packages\\torchaudio\\backend\\utils.py:88: UserWarning: No audio backend is available.\n",
      "  warnings.warn('No audio backend is available.')\n"
     ]
    }
   ],
   "source": [
    "import os\n",
    "import re \n",
    "import sys\n",
    "import time\n",
    "import numpy as np\n",
    "import pymysql \n",
    "from tqdm import tqdm\n",
    "from sklearn.model_selection import train_test_split\n",
    "\n",
    "from transformers import*\n",
    "import tensorflow as tf\n",
    "from tensorflow.keras import datasets, layers, models\n",
    "from tensorflow.keras.preprocessing.sequence import pad_sequences\n",
    "from tensorflow.keras.callbacks import EarlyStopping, ModelCheckpoint\n",
    "from transformers import TFAlbertModel\n",
    "import FinanceDataReader as fdr \n",
    "\n",
    "import pandas as pd\n",
    "import matplotlib.pyplot as plt \n",
    "\n",
    "sys.path.append('D:\\python\\KB금융공모\\KB-ALBERT-KO\\kb-albert-char')\n",
    "from tokenization_kbalbert import KbAlbertCharTokenizer    "
   ]
  },
  {
   "cell_type": "code",
   "execution_count": 2,
   "id": "0029d062",
   "metadata": {
    "scrolled": false
   },
   "outputs": [
    {
     "name": "stdout",
     "output_type": "stream",
     "text": [
      "Using GPU\n"
     ]
    }
   ],
   "source": [
    "gpus = tf.config.experimental.list_physical_devices('GPU')\n",
    "tf.config.experimental.set_visible_devices(gpus[0], 'GPU')\n",
    "\n",
    "if gpus:\n",
    "    try:\n",
    "        print('Using GPU')\n",
    "        tf.config.experimental.set_memory_growth(gpus[0], True)\n",
    "    except RuntimeError as e:\n",
    "        print(e)\n",
    "else:\n",
    "    print('Using CPU')"
   ]
  },
  {
   "cell_type": "markdown",
   "id": "9b1dea95",
   "metadata": {},
   "source": [
    "### - 가공된 뉴스파일 로드"
   ]
  },
  {
   "cell_type": "code",
   "execution_count": 3,
   "id": "2cd8bfe7",
   "metadata": {},
   "outputs": [],
   "source": [
    "df_news = pd.read_excel('클러스터링완료된삼성전자.xlsx',index_col=0)[['날짜','제목']] \n",
    "df_news = df_news.rename({'날짜':'Date'},axis=1)"
   ]
  },
  {
   "cell_type": "code",
   "execution_count": 4,
   "id": "d876610d",
   "metadata": {},
   "outputs": [],
   "source": [
    "df_news['len'] = df_news['제목'].apply(lambda x:len(x))"
   ]
  },
  {
   "cell_type": "markdown",
   "id": "f1520ae1",
   "metadata": {},
   "source": [
    "### - 뉴스는 주식의 상대적인 변화량으로 라벨링을 할 예정임 (상승 1 하락 0)\n",
    "### - 이때 라벨링 데이터가 한쪽으로 치우치지 않는지 확인 필요 \n",
    "### - 대략 51:49 정도이므로 학습데이터로 사용하기에 적합하다고 판단함"
   ]
  },
  {
   "cell_type": "code",
   "execution_count": 5,
   "id": "34c63815",
   "metadata": {},
   "outputs": [
    {
     "data": {
      "text/plain": [
       "1    699\n",
       "0    652\n",
       "Name: label, dtype: int64"
      ]
     },
     "execution_count": 5,
     "metadata": {},
     "output_type": "execute_result"
    }
   ],
   "source": [
    "df_stock = fdr.DataReader('005930','2016-01-01','2021-07-01')\n",
    "df_stock['label'] = df_stock['Change'].apply(lambda x: 1 if x>0 else 0)\n",
    "df_stock['label'].value_counts()"
   ]
  },
  {
   "cell_type": "markdown",
   "id": "210dad5c",
   "metadata": {},
   "source": [
    "### 주식 날짜에 맞춰서 뉴스와 주가 변화량 파일 병합"
   ]
  },
  {
   "cell_type": "code",
   "execution_count": 6,
   "id": "562ab683",
   "metadata": {},
   "outputs": [],
   "source": [
    "df_stock = df_stock.reset_index()[['Date','label']]\n",
    "df = pd.merge(df_stock,df_news,how='left')"
   ]
  },
  {
   "cell_type": "code",
   "execution_count": 7,
   "id": "9a55d2be",
   "metadata": {},
   "outputs": [],
   "source": [
    "data = df['제목']\n",
    "label = df['label']"
   ]
  },
  {
   "cell_type": "markdown",
   "id": "553f8db7",
   "metadata": {},
   "source": [
    "### 훈련, 테스트 데이터 분할"
   ]
  },
  {
   "cell_type": "code",
   "execution_count": 8,
   "id": "1bf65bba",
   "metadata": {},
   "outputs": [],
   "source": [
    "train_x,test_x,train_label,test_label = train_test_split(data, label,shuffle=False)"
   ]
  },
  {
   "cell_type": "code",
   "execution_count": 9,
   "id": "9b5d9384",
   "metadata": {},
   "outputs": [],
   "source": [
    "#random seed 고정\n",
    "tf.random.set_seed(1234)\n",
    "np.random.seed(1234)\n",
    "\n",
    "BATCH_SIZE = 32\n",
    "NUM_EPOCHS = 3\n",
    "VALID_SPLIT = 0.2\n",
    "MAX_LEN = 50 # EDA에서 추출된 Max Length"
   ]
  },
  {
   "cell_type": "code",
   "execution_count": 10,
   "id": "299394c7",
   "metadata": {},
   "outputs": [
    {
     "name": "stderr",
     "output_type": "stream",
     "text": [
      "The tokenizer class you load from this checkpoint is not the same type as the class this function is called from. It may result in unexpected tokenization. \n",
      "The tokenizer class you load from this checkpoint is 'AlbertTokenizer'. \n",
      "The class this function is called from is 'KbAlbertCharTokenizer'.\n"
     ]
    },
    {
     "name": "stdout",
     "output_type": "stream",
     "text": [
      "D:\\python\\KB금융공모\\model\\vocab.txt\n"
     ]
    }
   ],
   "source": [
    "# 토크나이저는 금융 언어에 더 최적화된 KBALBERT 를 사용함\n",
    "tokenizer = KbAlbertCharTokenizer.from_pretrained(\"D:\\python\\KB금융공모\\model\")"
   ]
  },
  {
   "cell_type": "code",
   "execution_count": 11,
   "id": "43b9143d",
   "metadata": {},
   "outputs": [],
   "source": [
    "def bert_tokenizer(sent, MAX_LEN):\n",
    "    encoded_dict = tokenizer.encode_plus(\n",
    "        text = sent,\n",
    "        add_special_tokens = True, # [CLS]',[SEP] 추가에 관한 옵션\n",
    "        max_length = MAX_LEN,\n",
    "        pad_to_max_length = True,\n",
    "        return_attention_mask = True   # Construct attn. masks.\n",
    "    )\n",
    "    \n",
    "    input_id = encoded_dict['input_ids']\n",
    "    attention_mask = encoded_dict['attention_mask'] # And its attention mask (simply differentiates padding from non-padding).\n",
    "    token_type_id = encoded_dict['token_type_ids'] # differentiate two sentences\n",
    "    \n",
    "    return input_id, attention_mask, token_type_id"
   ]
  },
  {
   "cell_type": "markdown",
   "id": "7cc4daed",
   "metadata": {},
   "source": [
    "### 훈련 데이터 토큰화 진행"
   ]
  },
  {
   "cell_type": "code",
   "execution_count": 12,
   "id": "a744f6df",
   "metadata": {},
   "outputs": [
    {
     "name": "stderr",
     "output_type": "stream",
     "text": [
      "  0%|                                                                                         | 0/1013 [00:00<?, ?it/s]Truncation was not explicitly activated but `max_length` is provided a specific value, please use `truncation=True` to explicitly truncate examples to max length. Defaulting to 'longest_first' truncation strategy. If you encode pairs of sequences (GLUE-style) with the tokenizer you can select this strategy more precisely by providing a specific strategy to `truncation`.\n",
      "C:\\Users\\minsukim\\anaconda3\\envs\\minsu\\lib\\site-packages\\transformers\\tokenization_utils_base.py:2184: FutureWarning: The `pad_to_max_length` argument is deprecated and will be removed in a future version, use `padding=True` or `padding='longest'` to pad to the longest sequence in the batch, or use `padding='max_length'` to pad to a max length. In this case, you can give a specific length with `max_length` (e.g. `max_length=45`) or leave max_length to None to pad to the maximal input size of the model (e.g. 512 for Bert).\n",
      "  warnings.warn(\n",
      "100%|███████████████████████████████████████████████████████████████████████████| 1013/1013 [00:00<00:00, 11508.14it/s]"
     ]
    },
    {
     "name": "stdout",
     "output_type": "stream",
     "text": [
      "Input nan is not valid. Should be a string, a list/tuple of strings or a list/tuple of integers.\n",
      "nan\n",
      "# sents: 1012, # labels: 1012\n"
     ]
    },
    {
     "name": "stderr",
     "output_type": "stream",
     "text": [
      "\n"
     ]
    }
   ],
   "source": [
    "input_ids = []\n",
    "attention_masks = []\n",
    "token_type_ids = []\n",
    "train_data_labels = []\n",
    "\n",
    "for train_sent, train_label in tqdm(zip(train_x, train_label), total=len(train_label)):\n",
    "    try:\n",
    "        input_id, attention_mask, token_type_id = bert_tokenizer(train_sent, MAX_LEN)\n",
    "        \n",
    "        input_ids.append(input_id)\n",
    "        attention_masks.append(attention_mask)\n",
    "        token_type_ids.append(token_type_id)\n",
    "        train_data_labels.append(train_label)\n",
    "\n",
    "    except Exception as e:\n",
    "        print(e)\n",
    "        print(train_sent)\n",
    "        pass\n",
    "\n",
    "train_input_ids = np.array(input_ids, dtype=int)\n",
    "train_attention_masks = np.array(attention_masks, dtype=int)\n",
    "train_type_ids = np.array(token_type_ids, dtype=int)\n",
    "train_inputs = (train_input_ids, train_attention_masks, train_type_ids)\n",
    "\n",
    "train_data_labels = np.asarray(train_data_labels, dtype=np.int32) #레이블 토크나이징 리스트\n",
    "\n",
    "print(\"# sents: {}, # labels: {}\".format(len(train_input_ids), len(train_data_labels)))"
   ]
  },
  {
   "cell_type": "code",
   "execution_count": 13,
   "id": "7567d479",
   "metadata": {},
   "outputs": [
    {
     "name": "stderr",
     "output_type": "stream",
     "text": [
      "Some weights of the PyTorch model were not used when initializing the TF 2.0 model TFAlbertModel: ['sop_classifier.classifier.bias', 'predictions.LayerNorm.weight', 'predictions.LayerNorm.bias', 'predictions.dense.weight', 'predictions.decoder.weight', 'predictions.dense.bias', 'predictions.decoder.bias', 'sop_classifier.classifier.weight', 'predictions.bias']\n",
      "- This IS expected if you are initializing TFAlbertModel from a PyTorch model trained on another task or with another architecture (e.g. initializing a TFBertForSequenceClassification model from a BertForPreTraining model).\n",
      "- This IS NOT expected if you are initializing TFAlbertModel from a PyTorch model that you expect to be exactly identical (e.g. initializing a TFBertForSequenceClassification model from a BertForSequenceClassification model).\n",
      "All the weights of TFAlbertModel were initialized from the PyTorch model.\n",
      "If your task is similar to the task the model of the checkpoint was trained on, you can already use TFAlbertModel for predictions without further training.\n"
     ]
    }
   ],
   "source": [
    "class TFBertClassifier(tf.keras.Model):\n",
    "    def __init__(self, model_name, dir_path, num_class):\n",
    "        super(TFBertClassifier, self).__init__()\n",
    "\n",
    "        #self.bert = TFBertModel.from_pretrained(model_name, cache_dir=dir_path,from_pt=True) # 수정from_pt=True\n",
    "        self.bert = TFAlbertModel.from_pretrained(model_name,from_pt=True) # 수정from_pt=True\n",
    "        self.dropout = tf.keras.layers.Dropout(self.bert.config.hidden_dropout_prob)\n",
    "        self.classifier = tf.keras.layers.Dense(num_class, \n",
    "                                                kernel_initializer=tf.keras.initializers.TruncatedNormal(self.bert.config.initializer_range), \n",
    "                                                name=\"classifier\")\n",
    "        \n",
    "    def call(self, inputs, attention_mask=None, token_type_ids=None, training=False):\n",
    "        \n",
    "        #outputs 값: # sequence_output, pooled_output, (hidden_states), (attentions)\n",
    "        outputs = self.bert(inputs, attention_mask=attention_mask, token_type_ids=token_type_ids)\n",
    "        pooled_output = outputs[1] \n",
    "        pooled_output = self.dropout(pooled_output, training=training)\n",
    "        logits = self.classifier(pooled_output)\n",
    "        print(logits)\n",
    "        return logits\n",
    "\n",
    "cls_model = TFBertClassifier(model_name=\"D:\\python\\KB금융공모\\model\",\n",
    "                                  dir_path='bert_ckpt',\n",
    "                                  num_class=3)"
   ]
  },
  {
   "cell_type": "markdown",
   "id": "4bfa470f",
   "metadata": {},
   "source": [
    "### 데이터 확인"
   ]
  },
  {
   "cell_type": "code",
   "execution_count": 14,
   "id": "fb8653e6",
   "metadata": {},
   "outputs": [
    {
     "name": "stdout",
     "output_type": "stream",
     "text": [
      "(50,)\n",
      "(50,)\n",
      "[CLS] 집에서 모이자삼성전자 SUHD TV 집모임 이벤트 [SEP] [PAD] [PAD] [PAD] [PAD] [PAD] [PAD] [PAD] [PAD] [PAD] [PAD] [PAD] [PAD] [PAD] [PAD] [PAD] [PAD] [PAD] [PAD] [PAD] [PAD] [PAD] [PAD] [PAD] [PAD] [PAD] [PAD]\n"
     ]
    }
   ],
   "source": [
    "# 최대 길이: 50\n",
    "input_id = train_input_ids[0]\n",
    "attention_mask = train_attention_masks[0]\n",
    "\n",
    "print(input_id.shape)\n",
    "print(attention_mask.shape)\n",
    "print(tokenizer.decode(input_id))"
   ]
  },
  {
   "cell_type": "code",
   "execution_count": 23,
   "id": "66b20b33",
   "metadata": {},
   "outputs": [],
   "source": [
    "# 학습 준비\n",
    "optimizer = tf.keras.optimizers.Adam(3.5e-7)\n",
    "loss = tf.keras.losses.SparseCategoricalCrossentropy(from_logits=True)\n",
    "metric = tf.keras.metrics.SparseCategoricalAccuracy('accuracy')\n",
    "cls_model.compile(optimizer=optimizer, loss=loss, metrics=[metric])"
   ]
  },
  {
   "cell_type": "code",
   "execution_count": 25,
   "id": "eab99b76",
   "metadata": {},
   "outputs": [
    {
     "name": "stdout",
     "output_type": "stream",
     "text": [
      "model_save\\tf2_bert_news_model -- Folder already exists \n",
      "\n",
      "Epoch 1/10\n",
      "WARNING:tensorflow:The parameters `output_attentions`, `output_hidden_states` and `use_cache` cannot be updated when calling a model.They have to be set to True/False in the config object (i.e.: `config=XConfig.from_pretrained('name', output_attentions=True)`).\n",
      "WARNING:tensorflow:The parameter `return_dict` cannot be set in graph mode and will always be set to `True`.\n",
      "Tensor(\"tf_bert_classifier/classifier/BiasAdd:0\", shape=(None, 3), dtype=float32)\n",
      "WARNING:tensorflow:The parameters `output_attentions`, `output_hidden_states` and `use_cache` cannot be updated when calling a model.They have to be set to True/False in the config object (i.e.: `config=XConfig.from_pretrained('name', output_attentions=True)`).\n",
      "WARNING:tensorflow:The parameter `return_dict` cannot be set in graph mode and will always be set to `True`.\n",
      "Tensor(\"tf_bert_classifier/classifier/BiasAdd:0\", shape=(None, 3), dtype=float32)\n",
      "26/26 [==============================] - ETA: 0s - loss: 0.7055 - accuracy: 0.6381WARNING:tensorflow:The parameters `output_attentions`, `output_hidden_states` and `use_cache` cannot be updated when calling a model.They have to be set to True/False in the config object (i.e.: `config=XConfig.from_pretrained('name', output_attentions=True)`).\n",
      "WARNING:tensorflow:The parameter `return_dict` cannot be set in graph mode and will always be set to `True`.\n",
      "Tensor(\"tf_bert_classifier/classifier/BiasAdd:0\", shape=(None, 3), dtype=float32)\n",
      "26/26 [==============================] - 18s 270ms/step - loss: 0.7054 - accuracy: 0.6380 - val_loss: 0.7626 - val_accuracy: 0.5419\n",
      "\n",
      "Epoch 00001: val_accuracy improved from -inf to 0.54187, saving model to model_save\\tf2_bert_news_model\\weights.h5\n",
      "Epoch 2/10\n",
      "26/26 [==============================] - 4s 163ms/step - loss: 0.6995 - accuracy: 0.6335 - val_loss: 0.7617 - val_accuracy: 0.5419\n",
      "\n",
      "Epoch 00002: val_accuracy did not improve from 0.54187\n",
      "Epoch 3/10\n",
      "26/26 [==============================] - 4s 162ms/step - loss: 0.7018 - accuracy: 0.6163 - val_loss: 0.7618 - val_accuracy: 0.5419\n",
      "\n",
      "Epoch 00003: val_accuracy did not improve from 0.54187\n",
      "Epoch 4/10\n",
      "26/26 [==============================] - 4s 160ms/step - loss: 0.6946 - accuracy: 0.6466 - val_loss: 0.7602 - val_accuracy: 0.5320\n",
      "\n",
      "Epoch 00004: val_accuracy did not improve from 0.54187\n",
      "Epoch 5/10\n",
      "26/26 [==============================] - 4s 156ms/step - loss: 0.6915 - accuracy: 0.6221 - val_loss: 0.7586 - val_accuracy: 0.5419\n",
      "\n",
      "Epoch 00005: val_accuracy did not improve from 0.54187\n",
      "Epoch 6/10\n",
      "26/26 [==============================] - 4s 150ms/step - loss: 0.6835 - accuracy: 0.6584 - val_loss: 0.7587 - val_accuracy: 0.5320\n",
      "\n",
      "Epoch 00006: val_accuracy did not improve from 0.54187\n",
      "Epoch 7/10\n",
      "26/26 [==============================] - 4s 152ms/step - loss: 0.6958 - accuracy: 0.5972 - val_loss: 0.7572 - val_accuracy: 0.5320\n",
      "\n",
      "Epoch 00007: val_accuracy did not improve from 0.54187\n",
      "Epoch 8/10\n",
      "26/26 [==============================] - 4s 158ms/step - loss: 0.6740 - accuracy: 0.6656 - val_loss: 0.7563 - val_accuracy: 0.5172\n",
      "\n",
      "Epoch 00008: val_accuracy did not improve from 0.54187\n",
      "Epoch 9/10\n",
      "26/26 [==============================] - 4s 155ms/step - loss: 0.6786 - accuracy: 0.6348 - val_loss: 0.7558 - val_accuracy: 0.5123\n",
      "\n",
      "Epoch 00009: val_accuracy did not improve from 0.54187\n",
      "Epoch 10/10\n",
      "26/26 [==============================] - 4s 161ms/step - loss: 0.6761 - accuracy: 0.6411 - val_loss: 0.7537 - val_accuracy: 0.5123\n",
      "\n",
      "Epoch 00010: val_accuracy did not improve from 0.54187\n",
      "{'loss': [0.7029367089271545, 0.6993544697761536, 0.6962624788284302, 0.6930995583534241, 0.6900707483291626, 0.6869443655014038, 0.6838077306747437, 0.6807512044906616, 0.6777290105819702, 0.6747368574142456], 'accuracy': [0.6353523135185242, 0.6390605568885803, 0.6365883946418762, 0.6415327787399292, 0.6390605568885803, 0.6402966380119324, 0.6427688598632812, 0.6477132439613342, 0.6464771032333374, 0.6489493250846863], 'val_loss': [0.762606143951416, 0.7617350816726685, 0.7617679238319397, 0.76023268699646, 0.7585581541061401, 0.7587025165557861, 0.7571803331375122, 0.7562770843505859, 0.7557846307754517, 0.753679096698761], 'val_accuracy': [0.5418719053268433, 0.5418719053268433, 0.5418719053268433, 0.5320196747779846, 0.5418719053268433, 0.5320196747779846, 0.5320196747779846, 0.517241358757019, 0.5123152732849121, 0.5123152732849121]}\n",
      "time : 55.10088753700256\n"
     ]
    }
   ],
   "source": [
    "start = time.time() \n",
    "DATA_OUT_PATH = 'model_save'\n",
    "model_name = \"tf2_bert_news_model\"\n",
    "\n",
    "# overfitting을 막기 위한 ealrystop 추가\n",
    "earlystop_callback = EarlyStopping(monitor='val_accuracy', min_delta=0.0001,patience=10)\n",
    "\n",
    "checkpoint_path = os.path.join(DATA_OUT_PATH, model_name, 'weights.h5')\n",
    "checkpoint_dir = os.path.dirname(checkpoint_path)\n",
    "\n",
    "# Create path if exists\n",
    "if os.path.exists(checkpoint_dir):\n",
    "    print(\"{} -- Folder already exists \\n\".format(checkpoint_dir))\n",
    "else:\n",
    "    os.makedirs(checkpoint_dir, exist_ok=True)\n",
    "    print(\"{} -- Folder create complete \\n\".format(checkpoint_dir))\n",
    "    \n",
    "cp_callback = ModelCheckpoint(\n",
    "    checkpoint_path, monitor='val_accuracy', verbose=1, save_best_only=True, save_weights_only=True)\n",
    "\n",
    "# 학습과 eval 시작\n",
    "history = cls_model.fit(train_inputs, train_data_labels, epochs=10, batch_size=32, \n",
    "                        validation_split = VALID_SPLIT, callbacks=[earlystop_callback, cp_callback])\n",
    "\n",
    "print(history.history) \n",
    "print(\"time :\", time.time() - start)  # 현재시각 - 시작시간 = 실행 시간"
   ]
  },
  {
   "cell_type": "code",
   "execution_count": 18,
   "id": "e31c2bbd",
   "metadata": {},
   "outputs": [
    {
     "data": {
      "text/plain": [
       "<matplotlib.legend.Legend at 0x2130027a9d0>"
      ]
     },
     "execution_count": 18,
     "metadata": {},
     "output_type": "execute_result"
    },
    {
     "data": {
      "image/png": "[encoded data removed]",
      "text/plain": [
       "<Figure size 432x288 with 1 Axes>"
      ]
     },
     "metadata": {
      "needs_background": "light"
     },
     "output_type": "display_data"
    }
   ],
   "source": [
    "plt.plot(history.history['loss'])\n",
    "plt.plot(history.history['val_loss'])\n",
    "plt.xlabel('Epochs')\n",
    "plt.ylabel('loss')\n",
    "plt.legend(['Train','Test'])"
   ]
  },
  {
   "cell_type": "code",
   "execution_count": 19,
   "id": "2a771c76",
   "metadata": {},
   "outputs": [
    {
     "data": {
      "text/plain": [
       "<matplotlib.legend.Legend at 0x21302134dc0>"
      ]
     },
     "execution_count": 19,
     "metadata": {},
     "output_type": "execute_result"
    },
    {
     "data": {
      "image/png": "[encoded data removed]",
      "text/plain": [
       "<Figure size 432x288 with 1 Axes>"
      ]
     },
     "metadata": {
      "needs_background": "light"
     },
     "output_type": "display_data"
    }
   ],
   "source": [
    "plt.plot(history.history['accuracy'])\n",
    "plt.plot(history.history['val_accuracy'])\n",
    "plt.xlabel('Epochs')\n",
    "plt.ylabel('Accuracy')\n",
    "plt.legend(['Train','Test'])"
   ]
  },
  {
   "cell_type": "code",
   "execution_count": 20,
   "id": "3f8f583d",
   "metadata": {},
   "outputs": [
    {
     "name": "stderr",
     "output_type": "stream",
     "text": [
      "338it [00:00, 11644.24it/s]"
     ]
    },
    {
     "name": "stdout",
     "output_type": "stream",
     "text": [
      "num sents, labels 338, 338\n"
     ]
    },
    {
     "name": "stderr",
     "output_type": "stream",
     "text": [
      "\n"
     ]
    }
   ],
   "source": [
    "input_ids = []\n",
    "attention_masks = []\n",
    "token_type_ids = []\n",
    "test_data_labels = []\n",
    "\n",
    "for test_sent, test_label in tqdm(zip(test_x, test_label)):\n",
    "    try:\n",
    "        input_id, attention_mask, token_type_id = bert_tokenizer(test_sent, MAX_LEN)\n",
    "\n",
    "        input_ids.append(input_id)\n",
    "        attention_masks.append(attention_mask)\n",
    "        token_type_ids.append(token_type_id)\n",
    "        test_data_labels.append(test_label)\n",
    "    except Exception as e:\n",
    "        print(e)\n",
    "        print(test_sent)\n",
    "        pass\n",
    "\n",
    "test_input_ids = np.array(input_ids, dtype=int)\n",
    "test_attention_masks = np.array(attention_masks, dtype=int)\n",
    "test_type_ids = np.array(token_type_ids, dtype=int)\n",
    "test_inputs = (test_input_ids, test_attention_masks, test_type_ids)\n",
    "\n",
    "test_data_labels = np.asarray(test_data_labels, dtype=np.int32) #레이블 토크나이징 리스트\n",
    "\n",
    "print(\"num sents, labels {}, {}\".format(len(test_input_ids), len(test_data_labels)))"
   ]
  },
  {
   "cell_type": "code",
   "execution_count": 21,
   "id": "4e0b17a3",
   "metadata": {},
   "outputs": [],
   "source": [
    "cls_model.load_weights(checkpoint_path)"
   ]
  },
  {
   "cell_type": "markdown",
   "id": "027bee4f",
   "metadata": {},
   "source": [
    "### 2진분류에서 성능이 50%정도 나온다는 것은 학습에 실패한 것을 의미함"
   ]
  },
  {
   "cell_type": "code",
   "execution_count": 22,
   "id": "aeae00e4",
   "metadata": {},
   "outputs": [
    {
     "name": "stdout",
     "output_type": "stream",
     "text": [
      "1/1 [==============================] - 0s 260ms/step - loss: 0.7510 - accuracy: 0.5148\n",
      "test loss, test acc:  [0.7510307431221008, 0.5147929191589355]\n"
     ]
    }
   ],
   "source": [
    "results = cls_model.evaluate(test_inputs, test_data_labels, batch_size=1024)\n",
    "print(\"test loss, test acc: \", results)"
   ]
  },
  {
   "cell_type": "markdown",
   "id": "7ac1e3d2",
   "metadata": {},
   "source": [
    "# 실패 원인 분석"
   ]
  },
  {
   "cell_type": "code",
   "execution_count": null,
   "id": "ff8a626a",
   "metadata": {},
   "outputs": [],
   "source": [
    "'''\n",
    "\n",
    "-1. 시간 단위의 문제 : 장 초기 뉴스와 장 마감 직전의 뉴스는 성향이 크게 다를 수 있음. \n",
    "그러나 1일 단위로 예측을 함으로써 하루 단위의 뉴스는 모두 같은 라벨을 취급하기 때문에 \n",
    "학습이 잘 안된 것일 수 있음 \n",
    "\n",
    "-2. 뉴스 이슈에 대한 선반영 문제 : 뉴스로 나올만한 호재는 이미 누군가가 미리 알고 있던\n",
    "정보이기 때문에, 발행 전 뉴스가 이미 주가에 영향을 끼친 것일 수 있음 \n",
    "    \n",
    "-3. 전처리 문제 : 하루에 뉴스를 1개씩만 사용한 것이 문제일 수 있음. 환율, 경영, 경쟁사 등\n",
    "다양한 이슈가 하루에도 여러 개 발생할 수 있지만 하루 1개의 뉴스 헤드라인만 사용했기 때문에 \n",
    "학습이 잘 안된 것으로 판단할 수 있음\n",
    "\n",
    "'''"
   ]
  },
  {
   "cell_type": "markdown",
   "id": "133836bc",
   "metadata": {},
   "source": [
    "# 향후 연구"
   ]
  },
  {
   "cell_type": "markdown",
   "id": "c57efc86",
   "metadata": {},
   "source": [
    "#### - 1. 타겟 변경 : 삼성전자 처럼 대기업이 아닌, 뉴스 이외에 정보를 얻기가 힘든 소형 기업 위주로 예측을 시도해 볼 수 있음 \n",
    "#### - 2. 시간 단위 변경 : 1일 단위가 아닌 분 단위 예측을 하면 뉴스가 주가에 미치는 영향을 더 정확하게 포착할 수 있을 것임"
   ]
  }
 ],
 "metadata": {
  "kernelspec": {
   "display_name": "minsu",
   "language": "python",
   "name": "minsu"
  },
  "language_info": {
   "codemirror_mode": {
    "name": "ipython",
    "version": 3
   },
   "file_extension": ".py",
   "mimetype": "text/x-python",
   "name": "python",
   "nbconvert_exporter": "python",
   "pygments_lexer": "ipython3",
   "version": "3.8.5"
  }
 },
 "nbformat": 4,
 "nbformat_minor": 5
}
