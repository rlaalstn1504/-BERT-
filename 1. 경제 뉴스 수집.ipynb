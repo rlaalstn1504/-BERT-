{
 "cells": [
  {
   "cell_type": "code",
   "execution_count": 1,
   "metadata": {
    "scrolled": true
   },
   "outputs": [
    {
     "name": "stderr",
     "output_type": "stream",
     "text": [
      "C:\\Users\\minsukim\\anaconda3\\envs\\minsu\\lib\\site-packages\\numpy\\_distributor_init.py:30: UserWarning: loaded more than 1 DLL from .libs:\n",
      "C:\\Users\\minsukim\\anaconda3\\envs\\minsu\\lib\\site-packages\\numpy\\.libs\\libopenblas.EL2C6PLE4ZYW3ECEVIV3OXXGRN2NRFM2.gfortran-win_amd64.dll\n",
      "C:\\Users\\minsukim\\anaconda3\\envs\\minsu\\lib\\site-packages\\numpy\\.libs\\libopenblas.NOIJJG62EMASZI6NYURL6JBKM4EVBGM7.gfortran-win_amd64.dll\n",
      "  warnings.warn(\"loaded more than 1 DLL from .libs:\"\n"
     ]
    }
   ],
   "source": [
    "import requests\n",
    "from bs4 import BeautifulSoup\n",
    "import json\n",
    "import re\n",
    "import sys\n",
    "import pandas as pd\n",
    "import time, random\n",
    "import datetime\n",
    "import openpyxl\n",
    "from korea_news_crawler.articlecrawler import ArticleCrawler"
   ]
  },
  {
   "cell_type": "markdown",
   "metadata": {},
   "source": [
    "# 뉴스 수집 라이브러리인 ArticleCrawler를 활용하여 경제 뉴스를 수집함"
   ]
  },
  {
   "cell_type": "code",
   "execution_count": 2,
   "metadata": {},
   "outputs": [
    {
     "name": "stdout",
     "output_type": "stream",
     "text": [
      "{'start_year': 2020, 'start_month': 12, 'end_year': 2021, 'end_month': 2}\n"
     ]
    }
   ],
   "source": [
    "Crawler2 = ArticleCrawler()  \n",
    "Crawler2.set_category(\"경제\") # 수집 뉴스의 장르\n",
    "Crawler2.set_date_range(2020, 12, 2021, 2) \n",
    "Crawler2.start()"
   ]
  },
  {
   "cell_type": "code",
   "execution_count": 3,
   "metadata": {},
   "outputs": [
    {
     "name": "stdout",
     "output_type": "stream",
     "text": [
      "{'start_year': 2021, 'start_month': 2, 'end_year': 2021, 'end_month': 4}\n"
     ]
    }
   ],
   "source": [
    "Crawler2 = ArticleCrawler()  \n",
    "Crawler2.set_category(\"경제\") # 수집 뉴스의 장르\n",
    "Crawler2.set_date_range(2021, 2, 2021, 4) \n",
    "Crawler2.start()"
   ]
  },
  {
   "cell_type": "code",
   "execution_count": 4,
   "metadata": {},
   "outputs": [
    {
     "name": "stdout",
     "output_type": "stream",
     "text": [
      "{'start_year': 2021, 'start_month': 2, 'end_year': 2021, 'end_month': 4}\n"
     ]
    }
   ],
   "source": [
    "Crawler2 = ArticleCrawler()  \n",
    "Crawler2.set_category(\"경제\") # 수집 뉴스의 장르\n",
    "Crawler2.set_date_range(2021, 2, 2021, 4) \n",
    "Crawler2.start()"
   ]
  },
  {
   "cell_type": "code",
   "execution_count": 5,
   "metadata": {},
   "outputs": [
    {
     "name": "stdout",
     "output_type": "stream",
     "text": [
      "{'start_year': 2021, 'start_month': 4, 'end_year': 2021, 'end_month': 6}\n"
     ]
    }
   ],
   "source": [
    "Crawler2 = ArticleCrawler()  \n",
    "Crawler2.set_category(\"경제\") # 수집 뉴스의 장르\n",
    "Crawler2.set_date_range(2021, 4, 2021, 6) \n",
    "Crawler2.start()"
   ]
  },
  {
   "cell_type": "code",
   "execution_count": 6,
   "metadata": {},
   "outputs": [
    {
     "name": "stdout",
     "output_type": "stream",
     "text": [
      "{'start_year': 2021, 'start_month': 6, 'end_year': 2021, 'end_month': 7}\n"
     ]
    }
   ],
   "source": [
    "Crawler2 = ArticleCrawler()  \n",
    "Crawler2.set_category(\"경제\")  \n",
    "Crawler2.set_date_range(2021, 6, 2021, 7) \n",
    "Crawler2.start()"
   ]
  }
 ],
 "metadata": {
  "kernelspec": {
   "display_name": "minsu",
   "language": "python",
   "name": "minsu"
  },
  "language_info": {
   "codemirror_mode": {
    "name": "ipython",
    "version": 3
   },
   "file_extension": ".py",
   "mimetype": "text/x-python",
   "name": "python",
   "nbconvert_exporter": "python",
   "pygments_lexer": "ipython3",
   "version": "3.8.5"
  }
 },
 "nbformat": 4,
 "nbformat_minor": 4
}
